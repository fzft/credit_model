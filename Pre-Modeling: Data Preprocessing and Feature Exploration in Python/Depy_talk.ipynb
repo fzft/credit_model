{
 "cells": [
  {
   "cell_type": "code",
   "execution_count": null,
   "metadata": {},
   "outputs": [],
   "source": [
    "import numpy as np\n",
    "import pandas as pd\n",
    "import matplotlib.pyplot as plt\n",
    "%matplotlib inline"
   ]
  },
  {
   "cell_type": "code",
   "execution_count": null,
   "metadata": {},
   "outputs": [],
   "source": [
    "df = pd.read_csv('adult.csv', na_values=['#NAME?'])"
   ]
  },
  {
   "cell_type": "code",
   "execution_count": null,
   "metadata": {},
   "outputs": [],
   "source": [
    "df.head()"
   ]
  },
  {
   "cell_type": "code",
   "execution_count": null,
   "metadata": {},
   "outputs": [],
   "source": [
    "df['income'].value_counts()"
   ]
  },
  {
   "cell_type": "code",
   "execution_count": null,
   "metadata": {},
   "outputs": [],
   "source": [
    "df['income'] = [0 if x == '<=50K' else 1 for x in df['income']]\n",
    "X = df.drop('income', axis=1)\n",
    "y = df['income']"
   ]
  },
  {
   "cell_type": "markdown",
   "metadata": {},
   "source": [
    "# Basic data cleaning"
   ]
  },
  {
   "cell_type": "code",
   "execution_count": null,
   "metadata": {},
   "outputs": [],
   "source": [
    "X['education'] "
   ]
  },
  {
   "cell_type": "code",
   "execution_count": null,
   "metadata": {},
   "outputs": [],
   "source": [
    "pd.get_dummies(X['education'].head())"
   ]
  },
  {
   "cell_type": "code",
   "execution_count": null,
   "metadata": {},
   "outputs": [],
   "source": [
    "for col in X.columns:\n",
    "    if X[col].dtypes == 'object':\n",
    "        unique_cat = X[col].nunique()\n",
    "        print(f'Feature: {col} has {unique_cat} unique catgories')"
   ]
  },
  {
   "cell_type": "code",
   "execution_count": null,
   "metadata": {},
   "outputs": [],
   "source": [
    "X['native-country'].value_counts().sort_values()"
   ]
  },
  {
   "cell_type": "code",
   "execution_count": null,
   "metadata": {},
   "outputs": [],
   "source": [
    "X['native-country'] = ['United-States' if x == 'United-States' else 'Other' for x in X['native-country']]"
   ]
  },
  {
   "cell_type": "code",
   "execution_count": null,
   "metadata": {},
   "outputs": [],
   "source": [
    "todummy_list = ['workclass', 'education','marital-status','occupation','relationship','race','gender','native-country']"
   ]
  },
  {
   "cell_type": "code",
   "execution_count": null,
   "metadata": {},
   "outputs": [],
   "source": [
    "def dummy_df(df, todummy_list):\n",
    "    for x in todummy_list:\n",
    "        dummies = pd.get_dummies(df[x], prefix=x, dummy_na=False)\n",
    "        df = df.drop(x, 1)\n",
    "        df = pd.concat([df, dummies], axis=1)\n",
    "    return df"
   ]
  },
  {
   "cell_type": "code",
   "execution_count": null,
   "metadata": {},
   "outputs": [],
   "source": [
    "X = dummy_df(X, todummy_list)"
   ]
  },
  {
   "cell_type": "code",
   "execution_count": null,
   "metadata": {},
   "outputs": [],
   "source": [
    "X.head()"
   ]
  },
  {
   "cell_type": "markdown",
   "metadata": {},
   "source": [
    "# Handling missing data"
   ]
  },
  {
   "cell_type": "code",
   "execution_count": null,
   "metadata": {},
   "outputs": [],
   "source": [
    "X.isnull().sum().sort_values(ascending=False).head()"
   ]
  },
  {
   "cell_type": "code",
   "execution_count": null,
   "metadata": {},
   "outputs": [],
   "source": [
    "from sklearn.impute import SimpleImputer"
   ]
  },
  {
   "cell_type": "code",
   "execution_count": null,
   "metadata": {},
   "outputs": [],
   "source": [
    "imputer = SimpleImputer(missing_values=np.nan, strategy='mean')"
   ]
  },
  {
   "cell_type": "code",
   "execution_count": null,
   "metadata": {},
   "outputs": [],
   "source": [
    "imputer.fit(X)"
   ]
  },
  {
   "cell_type": "code",
   "execution_count": null,
   "metadata": {},
   "outputs": [],
   "source": [
    "X = pd.DataFrame(data=imputer.transform(X), columns=X.columns)"
   ]
  },
  {
   "cell_type": "markdown",
   "metadata": {},
   "source": [
    "# More data exploration"
   ]
  },
  {
   "cell_type": "markdown",
   "metadata": {},
   "source": [
    "# outiler detection"
   ]
  },
  {
   "cell_type": "code",
   "execution_count": null,
   "metadata": {},
   "outputs": [],
   "source": [
    "# tukey\n",
    "def find_outlier_tukey(x):\n",
    "    q1 = np.percentile(x, 25)\n",
    "    q3 = np.percentile(x, 75)\n",
    "    iqr = q3 - q1\n",
    "    floor = q1 - 1.5 * iqr\n",
    "    ceiling = q3 + 1.5*iqr\n",
    "    outlier_indices = list(x.index[ (x < floor) | (x > ceiling)])\n",
    "    outlier_values = list(x[outlier_indices])\n",
    "    return outlier_indices, outlier_values"
   ]
  },
  {
   "cell_type": "code",
   "execution_count": null,
   "metadata": {},
   "outputs": [],
   "source": [
    "outlier_indices, outlier_values = find_outlier_tukey(X['age'])"
   ]
  },
  {
   "cell_type": "code",
   "execution_count": 22,
   "metadata": {},
   "outputs": [
    {
     "data": {
      "text/plain": [
       "[79.0,\n",
       " 80.0,\n",
       " 90.0,\n",
       " 79.0,\n",
       " 80.0,\n",
       " 81.0,\n",
       " 82.0,\n",
       " 83.0,\n",
       " 81.0,\n",
       " 85.0,\n",
       " 80.0,\n",
       " 90.0,\n",
       " 81.0,\n",
       " 84.0,\n",
       " 81.0,\n",
       " 89.0,\n",
       " 81.0,\n",
       " 83.0,\n",
       " 81.0,\n",
       " 82.0,\n",
       " 80.0,\n",
       " 90.0,\n",
       " 81.0,\n",
       " 83.0,\n",
       " 80.0,\n",
       " 90.0,\n",
       " 90.0,\n",
       " 84.0,\n",
       " 80.0,\n",
       " 80.0,\n",
       " 80.0,\n",
       " 81.0,\n",
       " 90.0,\n",
       " 85.0,\n",
       " 90.0,\n",
       " 81.0,\n",
       " 81.0,\n",
       " 80.0,\n",
       " 80.0,\n",
       " 79.0,\n",
       " 81.0,\n",
       " 80.0,\n",
       " 88.0,\n",
       " 87.0,\n",
       " 90.0,\n",
       " 79.0,\n",
       " 83.0,\n",
       " 79.0,\n",
       " 80.0,\n",
       " 90.0,\n",
       " 79.0,\n",
       " 79.0,\n",
       " 81.0,\n",
       " 81.0,\n",
       " 90.0,\n",
       " 82.0,\n",
       " 90.0,\n",
       " 87.0,\n",
       " 81.0,\n",
       " 88.0,\n",
       " 80.0,\n",
       " 81.0,\n",
       " 80.0,\n",
       " 81.0,\n",
       " 90.0,\n",
       " 88.0,\n",
       " 89.0,\n",
       " 84.0,\n",
       " 80.0,\n",
       " 80.0,\n",
       " 83.0,\n",
       " 79.0,\n",
       " 81.0,\n",
       " 79.0,\n",
       " 90.0,\n",
       " 80.0,\n",
       " 81.0,\n",
       " 90.0,\n",
       " 88.0,\n",
       " 90.0,\n",
       " 90.0,\n",
       " 80.0,\n",
       " 90.0,\n",
       " 81.0,\n",
       " 82.0,\n",
       " 79.0,\n",
       " 81.0,\n",
       " 80.0,\n",
       " 83.0,\n",
       " 90.0,\n",
       " 90.0,\n",
       " 79.0,\n",
       " 81.0,\n",
       " 90.0,\n",
       " 90.0,\n",
       " 80.0,\n",
       " 90.0,\n",
       " 90.0,\n",
       " 79.0,\n",
       " 79.0,\n",
       " 84.0,\n",
       " 90.0,\n",
       " 80.0,\n",
       " 90.0,\n",
       " 81.0,\n",
       " 83.0,\n",
       " 84.0,\n",
       " 81.0,\n",
       " 79.0,\n",
       " 85.0,\n",
       " 82.0,\n",
       " 79.0,\n",
       " 80.0,\n",
       " 90.0,\n",
       " 90.0,\n",
       " 90.0,\n",
       " 84.0,\n",
       " 80.0,\n",
       " 90.0,\n",
       " 90.0,\n",
       " 79.0,\n",
       " 84.0,\n",
       " 90.0,\n",
       " 79.0,\n",
       " 90.0,\n",
       " 90.0,\n",
       " 90.0,\n",
       " 82.0,\n",
       " 81.0,\n",
       " 90.0,\n",
       " 84.0,\n",
       " 79.0,\n",
       " 81.0,\n",
       " 82.0,\n",
       " 81.0,\n",
       " 80.0,\n",
       " 90.0,\n",
       " 80.0,\n",
       " 84.0,\n",
       " 82.0,\n",
       " 79.0,\n",
       " 90.0,\n",
       " 84.0,\n",
       " 90.0,\n",
       " 83.0,\n",
       " 79.0,\n",
       " 81.0,\n",
       " 80.0,\n",
       " 79.0,\n",
       " 80.0,\n",
       " 79.0,\n",
       " 80.0,\n",
       " 90.0,\n",
       " 90.0,\n",
       " 80.0,\n",
       " 90.0,\n",
       " 90.0,\n",
       " 81.0,\n",
       " 83.0,\n",
       " 82.0,\n",
       " 90.0,\n",
       " 90.0,\n",
       " 81.0,\n",
       " 80.0,\n",
       " 80.0,\n",
       " 90.0,\n",
       " 79.0,\n",
       " 80.0,\n",
       " 82.0,\n",
       " 85.0,\n",
       " 80.0,\n",
       " 79.0,\n",
       " 90.0,\n",
       " 81.0,\n",
       " 79.0,\n",
       " 80.0,\n",
       " 79.0,\n",
       " 81.0,\n",
       " 82.0,\n",
       " 88.0,\n",
       " 90.0,\n",
       " 82.0,\n",
       " 88.0,\n",
       " 84.0,\n",
       " 83.0,\n",
       " 79.0,\n",
       " 86.0,\n",
       " 90.0,\n",
       " 90.0,\n",
       " 82.0,\n",
       " 83.0,\n",
       " 81.0,\n",
       " 79.0,\n",
       " 90.0,\n",
       " 80.0,\n",
       " 81.0,\n",
       " 79.0,\n",
       " 84.0,\n",
       " 84.0,\n",
       " 79.0,\n",
       " 90.0,\n",
       " 80.0,\n",
       " 81.0,\n",
       " 81.0,\n",
       " 81.0,\n",
       " 90.0,\n",
       " 87.0,\n",
       " 90.0,\n",
       " 80.0,\n",
       " 80.0,\n",
       " 82.0,\n",
       " 90.0,\n",
       " 90.0,\n",
       " 85.0,\n",
       " 82.0,\n",
       " 81.0]"
      ]
     },
     "execution_count": 22,
     "metadata": {},
     "output_type": "execute_result"
    }
   ],
   "source": [
    "outlier_values"
   ]
  },
  {
   "cell_type": "code",
   "execution_count": 23,
   "metadata": {},
   "outputs": [],
   "source": [
    "from sklearn.preprocessing import scale\n",
    "from statsmodels.nonparametric.kde import KDEUnivariate"
   ]
  },
  {
   "cell_type": "code",
   "execution_count": 24,
   "metadata": {},
   "outputs": [],
   "source": [
    "def find_outlier_kde(x):\n",
    "    x_scaled = scale(list(map(float, x)))\n",
    "    kde = KDEUnivariate(x_scaled)\n",
    "    kde.fit(bw='scott',fft=True)\n",
    "    pred = kde.evaluate(x_scaled)\n",
    "    \n",
    "    n = sum(pred < .05)\n",
    "    outlier_ind = np.asarray(pred).argsort()[:n]\n",
    "    outlier_values = np.asarray(x)[outlier_ind]\n",
    "    return outlier_ind, outlier_values"
   ]
  },
  {
   "cell_type": "code",
   "execution_count": 25,
   "metadata": {},
   "outputs": [],
   "source": [
    "# outlier_indices, outlier_values = find_outlier_kde(X['age'])"
   ]
  },
  {
   "cell_type": "markdown",
   "metadata": {},
   "source": [
    "# Distribution of Features"
   ]
  },
  {
   "cell_type": "code",
   "execution_count": 26,
   "metadata": {},
   "outputs": [],
   "source": [
    "def plot_histgram(x):\n",
    "    plt.hist(x, color='grey')\n",
    "    plt.title(f'Histgram of {x.name}')\n",
    "    plt.xlabel('Value')\n",
    "    plt.ylabel('frequency')\n",
    "    plt.show()"
   ]
  },
  {
   "cell_type": "code",
   "execution_count": 27,
   "metadata": {},
   "outputs": [
    {
     "data": {
      "image/png": "[encoded data removed]",
      "text/plain": [
       "<matplotlib.figure.Figure at 0x12fa9e4a8>"
      ]
     },
     "metadata": {
      "needs_background": "light"
     },
     "output_type": "display_data"
    }
   ],
   "source": [
    "plot_histgram(X['age'])"
   ]
  },
  {
   "cell_type": "code",
   "execution_count": 30,
   "metadata": {},
   "outputs": [],
   "source": [
    "def plot_histgram_dv(x, y):\n",
    "    plt.hist(list(x[y==0]), alpha=.5, label='dv-0')\n",
    "    plt.hist(list(x[y==1]), alpha=.5, label='dv-1')\n",
    "    plt.title(f'Histgram of {x.name} dv')\n",
    "    plt.xlabel('Value')\n",
    "    plt.ylabel('frequency')\n",
    "    plt.legend(loc='upper right')\n",
    "    plt.show()"
   ]
  },
  {
   "cell_type": "code",
   "execution_count": 32,
   "metadata": {},
   "outputs": [
    {
     "data": {
      "image/png": "[encoded data removed]",
      "text/plain": [
       "<matplotlib.figure.Figure at 0x12f99f6d8>"
      ]
     },
     "metadata": {
      "needs_background": "light"
     },
     "output_type": "display_data"
    }
   ],
   "source": [
    "plot_histgram_dv(X['age'], y)"
   ]
  },
  {
   "cell_type": "markdown",
   "metadata": {},
   "source": [
    "# feature engineering"
   ]
  },
  {
   "cell_type": "code",
   "execution_count": 33,
   "metadata": {},
   "outputs": [],
   "source": [
    "from itertools import combinations\n",
    "from sklearn.preprocessing import PolynomialFeatures"
   ]
  },
  {
   "cell_type": "code",
   "execution_count": 48,
   "metadata": {},
   "outputs": [],
   "source": [
    "def add_interactions(df):\n",
    "    combos = list(combinations(df.columns, 2))\n",
    "    colnames = list(df.columns) + ['_'.join(x) for x in combos]\n",
    "    \n",
    "    poly = PolynomialFeatures(interaction_only=True, include_bias=False)\n",
    "    df = poly.fit_transform(df)\n",
    "    df = pd.DataFrame(df)\n",
    "    df.columns = colnames\n",
    "    \n",
    "    noint_indices = [i for i, x in enumerate(list((df==0).all())) if x]\n",
    "    df = df.drop(df.columns[noint_indices], axis=1)\n",
    "    return df"
   ]
  },
  {
   "cell_type": "code",
   "execution_count": 49,
   "metadata": {},
   "outputs": [],
   "source": [
    "X1 = add_interactions(X)"
   ]
  },
  {
   "cell_type": "code",
   "execution_count": 50,
   "metadata": {},
   "outputs": [
    {
     "data": {
      "text/html": [
       "<div>\n",
       "<style scoped>\n",
       "    .dataframe tbody tr th:only-of-type {\n",
       "        vertical-align: middle;\n",
       "    }\n",
       "\n",
       "    .dataframe tbody tr th {\n",
       "        vertical-align: top;\n",
       "    }\n",
       "\n",
       "    .dataframe thead th {\n",
       "        text-align: right;\n",
       "    }\n",
       "</style>\n",
       "<table border=\"1\" class=\"dataframe\">\n",
       "  <thead>\n",
       "    <tr style=\"text-align: right;\">\n",
       "      <th></th>\n",
       "      <th>age</th>\n",
       "      <th>fnlwgt</th>\n",
       "      <th>educational-num</th>\n",
       "      <th>capital-gain</th>\n",
       "      <th>capital-loss</th>\n",
       "      <th>hours-per-week</th>\n",
       "      <th>workclass_?</th>\n",
       "      <th>workclass_Federal-gov</th>\n",
       "      <th>workclass_Local-gov</th>\n",
       "      <th>workclass_Never-worked</th>\n",
       "      <th>...</th>\n",
       "      <th>race_Other_native-country_Other</th>\n",
       "      <th>race_Other_native-country_United-States</th>\n",
       "      <th>race_White_gender_Female</th>\n",
       "      <th>race_White_gender_Male</th>\n",
       "      <th>race_White_native-country_Other</th>\n",
       "      <th>race_White_native-country_United-States</th>\n",
       "      <th>gender_Female_native-country_Other</th>\n",
       "      <th>gender_Female_native-country_United-States</th>\n",
       "      <th>gender_Male_native-country_Other</th>\n",
       "      <th>gender_Male_native-country_United-States</th>\n",
       "    </tr>\n",
       "  </thead>\n",
       "  <tbody>\n",
       "    <tr>\n",
       "      <td>0</td>\n",
       "      <td>25.0</td>\n",
       "      <td>226802.0</td>\n",
       "      <td>7.0</td>\n",
       "      <td>0.0</td>\n",
       "      <td>0.0</td>\n",
       "      <td>40.0</td>\n",
       "      <td>0.0</td>\n",
       "      <td>0.0</td>\n",
       "      <td>0.0</td>\n",
       "      <td>0.0</td>\n",
       "      <td>...</td>\n",
       "      <td>0.0</td>\n",
       "      <td>0.0</td>\n",
       "      <td>0.0</td>\n",
       "      <td>0.0</td>\n",
       "      <td>0.0</td>\n",
       "      <td>0.0</td>\n",
       "      <td>0.0</td>\n",
       "      <td>0.0</td>\n",
       "      <td>0.0</td>\n",
       "      <td>1.0</td>\n",
       "    </tr>\n",
       "    <tr>\n",
       "      <td>1</td>\n",
       "      <td>38.0</td>\n",
       "      <td>89814.0</td>\n",
       "      <td>9.0</td>\n",
       "      <td>0.0</td>\n",
       "      <td>0.0</td>\n",
       "      <td>50.0</td>\n",
       "      <td>0.0</td>\n",
       "      <td>0.0</td>\n",
       "      <td>0.0</td>\n",
       "      <td>0.0</td>\n",
       "      <td>...</td>\n",
       "      <td>0.0</td>\n",
       "      <td>0.0</td>\n",
       "      <td>0.0</td>\n",
       "      <td>1.0</td>\n",
       "      <td>0.0</td>\n",
       "      <td>1.0</td>\n",
       "      <td>0.0</td>\n",
       "      <td>0.0</td>\n",
       "      <td>0.0</td>\n",
       "      <td>1.0</td>\n",
       "    </tr>\n",
       "    <tr>\n",
       "      <td>2</td>\n",
       "      <td>28.0</td>\n",
       "      <td>336951.0</td>\n",
       "      <td>12.0</td>\n",
       "      <td>0.0</td>\n",
       "      <td>0.0</td>\n",
       "      <td>40.0</td>\n",
       "      <td>0.0</td>\n",
       "      <td>0.0</td>\n",
       "      <td>1.0</td>\n",
       "      <td>0.0</td>\n",
       "      <td>...</td>\n",
       "      <td>0.0</td>\n",
       "      <td>0.0</td>\n",
       "      <td>0.0</td>\n",
       "      <td>1.0</td>\n",
       "      <td>0.0</td>\n",
       "      <td>1.0</td>\n",
       "      <td>0.0</td>\n",
       "      <td>0.0</td>\n",
       "      <td>0.0</td>\n",
       "      <td>1.0</td>\n",
       "    </tr>\n",
       "    <tr>\n",
       "      <td>3</td>\n",
       "      <td>44.0</td>\n",
       "      <td>160323.0</td>\n",
       "      <td>10.0</td>\n",
       "      <td>7688.0</td>\n",
       "      <td>0.0</td>\n",
       "      <td>40.0</td>\n",
       "      <td>0.0</td>\n",
       "      <td>0.0</td>\n",
       "      <td>0.0</td>\n",
       "      <td>0.0</td>\n",
       "      <td>...</td>\n",
       "      <td>0.0</td>\n",
       "      <td>0.0</td>\n",
       "      <td>0.0</td>\n",
       "      <td>0.0</td>\n",
       "      <td>0.0</td>\n",
       "      <td>0.0</td>\n",
       "      <td>0.0</td>\n",
       "      <td>0.0</td>\n",
       "      <td>0.0</td>\n",
       "      <td>1.0</td>\n",
       "    </tr>\n",
       "    <tr>\n",
       "      <td>4</td>\n",
       "      <td>18.0</td>\n",
       "      <td>103497.0</td>\n",
       "      <td>10.0</td>\n",
       "      <td>0.0</td>\n",
       "      <td>0.0</td>\n",
       "      <td>30.0</td>\n",
       "      <td>1.0</td>\n",
       "      <td>0.0</td>\n",
       "      <td>0.0</td>\n",
       "      <td>0.0</td>\n",
       "      <td>...</td>\n",
       "      <td>0.0</td>\n",
       "      <td>0.0</td>\n",
       "      <td>1.0</td>\n",
       "      <td>0.0</td>\n",
       "      <td>0.0</td>\n",
       "      <td>1.0</td>\n",
       "      <td>0.0</td>\n",
       "      <td>1.0</td>\n",
       "      <td>0.0</td>\n",
       "      <td>0.0</td>\n",
       "    </tr>\n",
       "  </tbody>\n",
       "</table>\n",
       "<p>5 rows × 1891 columns</p>\n",
       "</div>"
      ],
      "text/plain": [
       "    age    fnlwgt  educational-num  capital-gain  capital-loss  \\\n",
       "0  25.0  226802.0              7.0           0.0           0.0   \n",
       "1  38.0   89814.0              9.0           0.0           0.0   \n",
       "2  28.0  336951.0             12.0           0.0           0.0   \n",
       "3  44.0  160323.0             10.0        7688.0           0.0   \n",
       "4  18.0  103497.0             10.0           0.0           0.0   \n",
       "\n",
       "   hours-per-week  workclass_?  workclass_Federal-gov  workclass_Local-gov  \\\n",
       "0            40.0          0.0                    0.0                  0.0   \n",
       "1            50.0          0.0                    0.0                  0.0   \n",
       "2            40.0          0.0                    0.0                  1.0   \n",
       "3            40.0          0.0                    0.0                  0.0   \n",
       "4            30.0          1.0                    0.0                  0.0   \n",
       "\n",
       "   workclass_Never-worked  ...  race_Other_native-country_Other  \\\n",
       "0                     0.0  ...                              0.0   \n",
       "1                     0.0  ...                              0.0   \n",
       "2                     0.0  ...                              0.0   \n",
       "3                     0.0  ...                              0.0   \n",
       "4                     0.0  ...                              0.0   \n",
       "\n",
       "   race_Other_native-country_United-States  race_White_gender_Female  \\\n",
       "0                                      0.0                       0.0   \n",
       "1                                      0.0                       0.0   \n",
       "2                                      0.0                       0.0   \n",
       "3                                      0.0                       0.0   \n",
       "4                                      0.0                       1.0   \n",
       "\n",
       "   race_White_gender_Male  race_White_native-country_Other  \\\n",
       "0                     0.0                              0.0   \n",
       "1                     1.0                              0.0   \n",
       "2                     1.0                              0.0   \n",
       "3                     0.0                              0.0   \n",
       "4                     0.0                              0.0   \n",
       "\n",
       "   race_White_native-country_United-States  \\\n",
       "0                                      0.0   \n",
       "1                                      1.0   \n",
       "2                                      1.0   \n",
       "3                                      0.0   \n",
       "4                                      1.0   \n",
       "\n",
       "   gender_Female_native-country_Other  \\\n",
       "0                                 0.0   \n",
       "1                                 0.0   \n",
       "2                                 0.0   \n",
       "3                                 0.0   \n",
       "4                                 0.0   \n",
       "\n",
       "   gender_Female_native-country_United-States  \\\n",
       "0                                         0.0   \n",
       "1                                         0.0   \n",
       "2                                         0.0   \n",
       "3                                         0.0   \n",
       "4                                         1.0   \n",
       "\n",
       "   gender_Male_native-country_Other  gender_Male_native-country_United-States  \n",
       "0                               0.0                                       1.0  \n",
       "1                               0.0                                       1.0  \n",
       "2                               0.0                                       1.0  \n",
       "3                               0.0                                       1.0  \n",
       "4                               0.0                                       0.0  \n",
       "\n",
       "[5 rows x 1891 columns]"
      ]
     },
     "execution_count": 50,
     "metadata": {},
     "output_type": "execute_result"
    }
   ],
   "source": [
    "X1.head()"
   ]
  },
  {
   "cell_type": "markdown",
   "metadata": {},
   "source": [
    "# B Dimentionality reduction use PCA"
   ]
  },
  {
   "cell_type": "code",
   "execution_count": 51,
   "metadata": {},
   "outputs": [],
   "source": [
    "from sklearn.decomposition import PCA"
   ]
  },
  {
   "cell_type": "code",
   "execution_count": 52,
   "metadata": {},
   "outputs": [],
   "source": [
    "pca = PCA(n_components=10)\n",
    "X_pca = pd.DataFrame(pca.fit_transform(X1))"
   ]
  },
  {
   "cell_type": "code",
   "execution_count": 53,
   "metadata": {},
   "outputs": [
    {
     "data": {
      "text/html": [
       "<div>\n",
       "<style scoped>\n",
       "    .dataframe tbody tr th:only-of-type {\n",
       "        vertical-align: middle;\n",
       "    }\n",
       "\n",
       "    .dataframe tbody tr th {\n",
       "        vertical-align: top;\n",
       "    }\n",
       "\n",
       "    .dataframe thead th {\n",
       "        text-align: right;\n",
       "    }\n",
       "</style>\n",
       "<table border=\"1\" class=\"dataframe\">\n",
       "  <thead>\n",
       "    <tr style=\"text-align: right;\">\n",
       "      <th></th>\n",
       "      <th>0</th>\n",
       "      <th>1</th>\n",
       "      <th>2</th>\n",
       "      <th>3</th>\n",
       "      <th>4</th>\n",
       "      <th>5</th>\n",
       "      <th>6</th>\n",
       "      <th>7</th>\n",
       "      <th>8</th>\n",
       "      <th>9</th>\n",
       "    </tr>\n",
       "  </thead>\n",
       "  <tbody>\n",
       "    <tr>\n",
       "      <td>0</td>\n",
       "      <td>-2.017217e+08</td>\n",
       "      <td>-1.667885e+07</td>\n",
       "      <td>1.873905e+05</td>\n",
       "      <td>-2.091049e+06</td>\n",
       "      <td>-3.544552e+05</td>\n",
       "      <td>24953.578255</td>\n",
       "      <td>103135.915037</td>\n",
       "      <td>-187429.897545</td>\n",
       "      <td>-64900.400637</td>\n",
       "      <td>69956.915131</td>\n",
       "    </tr>\n",
       "    <tr>\n",
       "      <td>1</td>\n",
       "      <td>-2.017239e+08</td>\n",
       "      <td>-1.672363e+07</td>\n",
       "      <td>-4.771779e+06</td>\n",
       "      <td>-6.290287e+05</td>\n",
       "      <td>-3.632957e+05</td>\n",
       "      <td>40006.136847</td>\n",
       "      <td>-95078.435156</td>\n",
       "      <td>-934.343398</td>\n",
       "      <td>34052.746195</td>\n",
       "      <td>39931.442072</td>\n",
       "    </tr>\n",
       "    <tr>\n",
       "      <td>2</td>\n",
       "      <td>-2.017189e+08</td>\n",
       "      <td>-1.662251e+07</td>\n",
       "      <td>6.289177e+06</td>\n",
       "      <td>-2.365242e+06</td>\n",
       "      <td>1.158349e+06</td>\n",
       "      <td>-46306.505153</td>\n",
       "      <td>-436786.569157</td>\n",
       "      <td>133290.086404</td>\n",
       "      <td>-11849.117721</td>\n",
       "      <td>18521.773087</td>\n",
       "    </tr>\n",
       "    <tr>\n",
       "      <td>3</td>\n",
       "      <td>1.030840e+09</td>\n",
       "      <td>-1.504992e+07</td>\n",
       "      <td>-1.372122e+06</td>\n",
       "      <td>7.329805e+05</td>\n",
       "      <td>-1.450348e+05</td>\n",
       "      <td>-85369.487209</td>\n",
       "      <td>-120519.238403</td>\n",
       "      <td>-2678.185949</td>\n",
       "      <td>26678.139010</td>\n",
       "      <td>-5998.756375</td>\n",
       "    </tr>\n",
       "    <tr>\n",
       "      <td>4</td>\n",
       "      <td>-2.017248e+08</td>\n",
       "      <td>-1.674194e+07</td>\n",
       "      <td>-6.785342e+06</td>\n",
       "      <td>-8.440193e+05</td>\n",
       "      <td>1.839778e+05</td>\n",
       "      <td>37700.998363</td>\n",
       "      <td>59157.292399</td>\n",
       "      <td>34898.814847</td>\n",
       "      <td>-5323.369981</td>\n",
       "      <td>-73600.944844</td>\n",
       "    </tr>\n",
       "  </tbody>\n",
       "</table>\n",
       "</div>"
      ],
      "text/plain": [
       "              0             1             2             3             4  \\\n",
       "0 -2.017217e+08 -1.667885e+07  1.873905e+05 -2.091049e+06 -3.544552e+05   \n",
       "1 -2.017239e+08 -1.672363e+07 -4.771779e+06 -6.290287e+05 -3.632957e+05   \n",
       "2 -2.017189e+08 -1.662251e+07  6.289177e+06 -2.365242e+06  1.158349e+06   \n",
       "3  1.030840e+09 -1.504992e+07 -1.372122e+06  7.329805e+05 -1.450348e+05   \n",
       "4 -2.017248e+08 -1.674194e+07 -6.785342e+06 -8.440193e+05  1.839778e+05   \n",
       "\n",
       "              5              6              7             8             9  \n",
       "0  24953.578255  103135.915037 -187429.897545 -64900.400637  69956.915131  \n",
       "1  40006.136847  -95078.435156    -934.343398  34052.746195  39931.442072  \n",
       "2 -46306.505153 -436786.569157  133290.086404 -11849.117721  18521.773087  \n",
       "3 -85369.487209 -120519.238403   -2678.185949  26678.139010  -5998.756375  \n",
       "4  37700.998363   59157.292399   34898.814847  -5323.369981 -73600.944844  "
      ]
     },
     "execution_count": 53,
     "metadata": {},
     "output_type": "execute_result"
    }
   ],
   "source": [
    "X_pca.head()"
   ]
  },
  {
   "cell_type": "markdown",
   "metadata": {},
   "source": [
    "# Feature selection "
   ]
  },
  {
   "cell_type": "code",
   "execution_count": 65,
   "metadata": {},
   "outputs": [],
   "source": [
    "import sklearn.feature_selection \n",
    "from sklearn.model_selection import train_test_split"
   ]
  },
  {
   "cell_type": "code",
   "execution_count": 66,
   "metadata": {},
   "outputs": [],
   "source": [
    "X_train, X_test, y_train, y_test = train_test_split(X1, y, train_size=.7, random_state=1)"
   ]
  },
  {
   "cell_type": "code",
   "execution_count": 67,
   "metadata": {},
   "outputs": [
    {
     "data": {
      "text/plain": [
       "(48842, 15)"
      ]
     },
     "execution_count": 67,
     "metadata": {},
     "output_type": "execute_result"
    }
   ],
   "source": [
    "df.shape"
   ]
  },
  {
   "cell_type": "code",
   "execution_count": 68,
   "metadata": {},
   "outputs": [
    {
     "data": {
      "text/plain": [
       "(48842, 1891)"
      ]
     },
     "execution_count": 68,
     "metadata": {},
     "output_type": "execute_result"
    }
   ],
   "source": [
    "X1.shape"
   ]
  },
  {
   "cell_type": "code",
   "execution_count": 69,
   "metadata": {},
   "outputs": [
    {
     "data": {
      "text/plain": [
       "0        0\n",
       "1        0\n",
       "2        1\n",
       "3        1\n",
       "4        0\n",
       "        ..\n",
       "48837    0\n",
       "48838    1\n",
       "48839    0\n",
       "48840    0\n",
       "48841    1\n",
       "Name: income, Length: 48842, dtype: int64"
      ]
     },
     "execution_count": 69,
     "metadata": {},
     "output_type": "execute_result"
    }
   ],
   "source": [
    "y"
   ]
  },
  {
   "cell_type": "code",
   "execution_count": 70,
   "metadata": {},
   "outputs": [
    {
     "name": "stdout",
     "output_type": "stream",
     "text": [
      "[   2   33   53   69  100  120  166  186  203  231  251  417  437 1470\n",
      " 1479 1481 1483 1817 1819 1821]\n"
     ]
    },
    {
     "name": "stderr",
     "output_type": "stream",
     "text": [
      "/Users/fangzhenfutao/anaconda3/lib/python3.6/site-packages/sklearn/feature_selection/_univariate_selection.py:114: UserWarning: Features [ 350  663  824  829  834  992 1127 1164 1208 1315 1324 1327 1437 1628\n",
      " 1631] are constant.\n",
      "  UserWarning)\n",
      "/Users/fangzhenfutao/anaconda3/lib/python3.6/site-packages/sklearn/feature_selection/_univariate_selection.py:115: RuntimeWarning: invalid value encountered in true_divide\n",
      "  f = msb / msw\n"
     ]
    }
   ],
   "source": [
    "select = sklearn.feature_selection.SelectKBest(k=20)\n",
    "select_features = select.fit(X_train, y_train)\n",
    "indices_selected = select_features.get_support(indices=True)\n",
    "\n",
    "colnames_selected = [X1.columns[i] for i in indices_selected] \n",
    "\n",
    "X_train_selected = X_train[colnames_selected]\n",
    "X_test_selected = X_test[colnames_selected]"
   ]
  },
  {
   "cell_type": "code",
   "execution_count": 71,
   "metadata": {},
   "outputs": [],
   "source": [
    "from sklearn.linear_model import LogisticRegression\n",
    "from sklearn.metrics import roc_auc_score"
   ]
  },
  {
   "cell_type": "code",
   "execution_count": 72,
   "metadata": {},
   "outputs": [],
   "source": [
    "def find_model_pref(X_train, y_train, X_test, y_test):\n",
    "    model = LogisticRegression()\n",
    "    model.fit(X_train, y_train)\n",
    "    y_hat = [x[1] for x in model.predict_proba(X_test)]\n",
    "    auc = roc_auc_score(y_test, y_hat)\n",
    "    return auc"
   ]
  },
  {
   "cell_type": "code",
   "execution_count": 73,
   "metadata": {},
   "outputs": [
    {
     "name": "stderr",
     "output_type": "stream",
     "text": [
      "/Users/fangzhenfutao/anaconda3/lib/python3.6/site-packages/sklearn/linear_model/_logistic.py:940: ConvergenceWarning: lbfgs failed to converge (status=1):\n",
      "STOP: TOTAL NO. of ITERATIONS REACHED LIMIT.\n",
      "\n",
      "Increase the number of iterations (max_iter) or scale the data as shown in:\n",
      "    https://scikit-learn.org/stable/modules/preprocessing.html\n",
      "Please also refer to the documentation for alternative solver options:\n",
      "    https://scikit-learn.org/stable/modules/linear_model.html#logistic-regression\n",
      "  extra_warning_msg=_LOGISTIC_SOLVER_CONVERGENCE_MSG)\n"
     ]
    }
   ],
   "source": [
    "auc_processed = find_model_pref(X_train_selected, y_train, X_test_selected, y_test)"
   ]
  },
  {
   "cell_type": "code",
   "execution_count": 74,
   "metadata": {},
   "outputs": [
    {
     "data": {
      "text/plain": [
       "0.6823390107328551"
      ]
     },
     "execution_count": 74,
     "metadata": {},
     "output_type": "execute_result"
    }
   ],
   "source": [
    "auc_processed"
   ]
  },
  {
   "cell_type": "code",
   "execution_count": null,
   "metadata": {},
   "outputs": [],
   "source": []
  }
 ],
 "metadata": {
  "kernelspec": {
   "display_name": "Python 3",
   "language": "python",
   "name": "python3"
  },
  "language_info": {
   "codemirror_mode": {
    "name": "ipython",
    "version": 3
   },
   "file_extension": ".py",
   "mimetype": "text/x-python",
   "name": "python",
   "nbconvert_exporter": "python",
   "pygments_lexer": "ipython3",
   "version": "3.6.6"
  }
 },
 "nbformat": 4,
 "nbformat_minor": 2
}
