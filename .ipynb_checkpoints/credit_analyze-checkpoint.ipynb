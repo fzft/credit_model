{
 "cells": [
  {
   "cell_type": "code",
   "execution_count": 1,
   "metadata": {},
   "outputs": [],
   "source": [
    "import copy\n",
    "import random\n",
    "import numpy as np\n",
    "import pandas as pd\n",
    "import scipy.stats as ss\n",
    "import datetime\n",
    "import time"
   ]
  },
  {
   "cell_type": "code",
   "execution_count": 2,
   "metadata": {},
   "outputs": [],
   "source": [
    "from matplotlib import pyplot as plt\n",
    "import seaborn as sns\n",
    "\n",
    "plt.rcParams['font.family'] = 'SimHei'"
   ]
  },
  {
   "cell_type": "code",
   "execution_count": 3,
   "metadata": {},
   "outputs": [
    {
     "data": {
      "text/html": [
       "<div>\n",
       "<style scoped>\n",
       "    .dataframe tbody tr th:only-of-type {\n",
       "        vertical-align: middle;\n",
       "    }\n",
       "\n",
       "    .dataframe tbody tr th {\n",
       "        vertical-align: top;\n",
       "    }\n",
       "\n",
       "    .dataframe thead th {\n",
       "        text-align: right;\n",
       "    }\n",
       "</style>\n",
       "<table border=\"1\" class=\"dataframe\">\n",
       "  <thead>\n",
       "    <tr style=\"text-align: right;\">\n",
       "      <th></th>\n",
       "      <th>年龄</th>\n",
       "      <th>收入</th>\n",
       "      <th>孩子数量</th>\n",
       "      <th>家庭人口数</th>\n",
       "      <th>在现住址时间</th>\n",
       "      <th>在现工作时间</th>\n",
       "      <th>住房种类</th>\n",
       "      <th>国籍</th>\n",
       "      <th>信用卡类型</th>\n",
       "      <th>是否违约</th>\n",
       "    </tr>\n",
       "  </thead>\n",
       "  <tbody>\n",
       "    <tr>\n",
       "      <td>0</td>\n",
       "      <td>46</td>\n",
       "      <td>0</td>\n",
       "      <td>0</td>\n",
       "      <td>2</td>\n",
       "      <td>15</td>\n",
       "      <td>33</td>\n",
       "      <td>租住</td>\n",
       "      <td>德国</td>\n",
       "      <td>支票账户</td>\n",
       "      <td>0</td>\n",
       "    </tr>\n",
       "    <tr>\n",
       "      <td>1</td>\n",
       "      <td>34</td>\n",
       "      <td>3200</td>\n",
       "      <td>4</td>\n",
       "      <td>6</td>\n",
       "      <td>144</td>\n",
       "      <td>54</td>\n",
       "      <td>自有</td>\n",
       "      <td>土耳其</td>\n",
       "      <td>无信用卡</td>\n",
       "      <td>1</td>\n",
       "    </tr>\n",
       "    <tr>\n",
       "      <td>2</td>\n",
       "      <td>31</td>\n",
       "      <td>3300</td>\n",
       "      <td>3</td>\n",
       "      <td>5</td>\n",
       "      <td>108</td>\n",
       "      <td>120</td>\n",
       "      <td>租住</td>\n",
       "      <td>土耳其</td>\n",
       "      <td>无信用卡</td>\n",
       "      <td>1</td>\n",
       "    </tr>\n",
       "    <tr>\n",
       "      <td>3</td>\n",
       "      <td>39</td>\n",
       "      <td>1500</td>\n",
       "      <td>0</td>\n",
       "      <td>1</td>\n",
       "      <td>192</td>\n",
       "      <td>6</td>\n",
       "      <td>租住</td>\n",
       "      <td>德国</td>\n",
       "      <td>无信用卡</td>\n",
       "      <td>1</td>\n",
       "    </tr>\n",
       "    <tr>\n",
       "      <td>4</td>\n",
       "      <td>32</td>\n",
       "      <td>0</td>\n",
       "      <td>3</td>\n",
       "      <td>5</td>\n",
       "      <td>48</td>\n",
       "      <td>108</td>\n",
       "      <td>租住</td>\n",
       "      <td>德国</td>\n",
       "      <td>支票账户</td>\n",
       "      <td>0</td>\n",
       "    </tr>\n",
       "  </tbody>\n",
       "</table>\n",
       "</div>"
      ],
      "text/plain": [
       "   年龄    收入  孩子数量  家庭人口数  在现住址时间  在现工作时间 住房种类   国籍 信用卡类型  是否违约\n",
       "0  46     0     0      2      15      33   租住   德国  支票账户     0\n",
       "1  34  3200     4      6     144      54   自有  土耳其  无信用卡     1\n",
       "2  31  3300     3      5     108     120   租住  土耳其  无信用卡     1\n",
       "3  39  1500     0      1     192       6   租住   德国  无信用卡     1\n",
       "4  32     0     3      5      48     108   租住   德国  支票账户     0"
      ]
     },
     "execution_count": 3,
     "metadata": {},
     "output_type": "execute_result"
    }
   ],
   "source": [
    "dfraw = pd.read_csv('BankData/ScoreCard.csv', encoding='GBK')\n",
    "dfraw.head()"
   ]
  },
  {
   "cell_type": "code",
   "execution_count": 4,
   "metadata": {},
   "outputs": [
    {
     "data": {
      "text/plain": [
       "1    1500\n",
       "0    1500\n",
       "Name: 是否违约, dtype: int64"
      ]
     },
     "execution_count": 4,
     "metadata": {},
     "output_type": "execute_result"
    }
   ],
   "source": [
    "dfraw.是否违约.value_counts()"
   ]
  },
  {
   "cell_type": "code",
   "execution_count": 5,
   "metadata": {},
   "outputs": [
    {
     "data": {
      "text/plain": [
       "0         707\n",
       "2500      190\n",
       "1500      188\n",
       "2000      159\n",
       "3000      152\n",
       "2200      152\n",
       "2300      130\n",
       "4000      103\n",
       "2400      103\n",
       "1800       98\n",
       "1900       95\n",
       "3500       94\n",
       "2800       94\n",
       "2600       81\n",
       "1700       79\n",
       "2100       75\n",
       "2700       75\n",
       "5000       70\n",
       "1600       63\n",
       "1000       63\n",
       "3200       54\n",
       "2900       47\n",
       "3300       45\n",
       "3100       30\n",
       "10000      26\n",
       "3400       26\n",
       "100000      1\n",
       "Name: 收入, dtype: int64"
      ]
     },
     "execution_count": 5,
     "metadata": {},
     "output_type": "execute_result"
    }
   ],
   "source": [
    "dfraw.收入.value_counts()"
   ]
  },
  {
   "cell_type": "code",
   "execution_count": 6,
   "metadata": {},
   "outputs": [],
   "source": [
    "dfraw.收入.replace(100000, 10000, inplace=True)"
   ]
  },
  {
   "cell_type": "code",
   "execution_count": 7,
   "metadata": {},
   "outputs": [],
   "source": [
    "def M_chiMerge(dfname, colname, target, method='MaxInt', maxint=5, minchi=3.84, vartype='N', outtype=1):\n",
    "    dfana = copy.copy(dfname[[colname, target]])\n",
    "    if sum(dfana[colname].isna()) > 0:\n",
    "        dfana = dfnan[dfana[colname].notna()] \n",
    "    n_levels = dfana[colname].nunique()\n",
    "    if method == 'MaxInt' and n_levels <= maxint:\n",
    "        return []\n",
    "        "
   ]
  },
  {
   "cell_type": "code",
   "execution_count": null,
   "metadata": {},
   "outputs": [],
   "source": []
  },
  {
   "cell_type": "code",
   "execution_count": 16,
   "metadata": {},
   "outputs": [
    {
     "data": {
      "text/plain": [
       "0       False\n",
       "1       False\n",
       "2       False\n",
       "3       False\n",
       "4       False\n",
       "        ...  \n",
       "2995    False\n",
       "2996    False\n",
       "2997    False\n",
       "2998    False\n",
       "2999    False\n",
       "Name: 收入, Length: 3000, dtype: bool"
      ]
     },
     "execution_count": 16,
     "metadata": {},
     "output_type": "execute_result"
    }
   ],
   "source": [
    "dfraw['收入'] == 1"
   ]
  },
  {
   "cell_type": "code",
   "execution_count": 13,
   "metadata": {},
   "outputs": [],
   "source": [
    "def M_chiMerge(dfname, colname, target, method='MaxInt', maxint=5, minchi2=3.84, vartype='N', outtype=1):\n",
    "    dfana = copy.copy(dfname[[colname, target]])\n",
    "    if dfana[colname].isna().sum() > 0:\n",
    "        dfana = dfana[dfana[colname].notna()]\n",
    "    n_levels = dfana[colname].nunique()\n",
    "    if method == 'MaxInt' and n_levels <= maxint:\n",
    "        return []\n",
    "    if n_levels > 100:\n",
    "        pass\n",
    "    dftab1 = pd.crosstab(dfana[colname], dfana[target])\n",
    "    dftab1.reset_index(inplace=True)\n",
    "    print(dftab1)\n",
    "#     dftab1['badrate'] = dftab1[1] / (dftab1[0] + dftab1[1])\n",
    "#     if vartype == 'C':\n",
    "#         dftab1.sort_values('badrate', inplace=True)\n",
    "#         dftab1.reset_index(drop=True, inplace=True)\n",
    "#         print(dftab1)\n",
    "\n",
    "#     dfres = pd.DataFrame({colname: dftab1[colname], 'trans': dftab1[colname]})\n",
    "\n",
    "#     normalbinindex = dftab1.query(\"badrate > 0 and badrate < 1\").index\n",
    "#     if normalbinindex.size < n_levels:\n",
    "#         initpos = normalbinindex[0]\n",
    "#         if initpos > 0:\n",
    "#             dfres.loc[0: initpos, 'trans'] = dfres.loc[initpos, 'trans']\n",
    "#         for i in range(initpos, n_levels):\n",
    "#             if dftab1.loc[i, 'badrate'] == 0 or dftab1.loc[i, 'badrate'] == 1:\n",
    "#                 dfres.loc[i, 'trans'] = dfres.loc[i - 1, 'trans']\n",
    "#         dftab1[colname] = dfres.trans\n",
    "#         dftab1 = dftab1.groupby(colname, as_index=False, observed=True).agg('sum')\n",
    "#         n_levels = dftab1[colname].nunique()\n",
    "\n",
    "#         if vartype == 'C':\n",
    "#             dftab1['badrate'] = dftab1[1] / (dftab1[0] + dftab1[1])\n",
    "#             dftab1.sort_values('badrate', inplace=True)\n",
    "#             dftab1.reset_index(drop=True, inplace=True)\n",
    "\n",
    "#     for i in range(n_levels - 1):\n",
    "#         dftab1.loc[i, 'chi2'] = ss.chi2_contingency(dftab1.loc[i: i + 1, [0, 1]])[0]\n",
    "\n",
    "#     while True:\n",
    "#         minindex = dftab1.index[dftab1.chi2 == min(dftab1.chi2)][0]\n",
    "#         mincat = dftab1.loc[minindex, colname]\n",
    "\n",
    "#         if method == 'MaxInt':\n",
    "#             if dftab1.shape[0] <= maxint:\n",
    "#                 break\n",
    "\n",
    "#         else:\n",
    "#             if dftab1.loc[minindex, 'chi2'] > minchi2:\n",
    "#                 break\n",
    "#         newcat = dftab1.loc[minindex + 1, colname]\n",
    "#         dfres.loc[dfres['trans'] == mincat, 'trans'] = newcat\n",
    "#         dftab1.loc[minindex, colname] = newcat\n",
    "\n",
    "#         dftab1 = dftab1.groupby(colname, as_index=False, observed=True).agg('sum')\n",
    "\n",
    "#         if vartype == 'C':\n",
    "#             dftab1['badrate'] = dftab1[1] / (dftab1[0] + dftab1[1])\n",
    "#             dftab1.sort_values('badrate', inplace=True)\n",
    "#             dftab1.reset_index(drop=True, inplace=True)\n",
    "#         dftab1.loc[dftab1.index[-1], 'chi2'] = np.NaN\n",
    "#         if minindex == dftab1.shape[0] - 1:\n",
    "#             minindex -= 1\n",
    "#         dftab1.loc[minindex, 'chi2'] = ss.chi2_contingency(dftab1.loc[minindex: minindex + 1, [0, 1]])[0]\n",
    "\n",
    "#     dfres.trans = dfres.trans.astype('str')\n",
    "#     dfres.columns = [colname, colname + '_bin']\n",
    "\n",
    "#     if vartype == 'N':\n",
    "#         dfresg = dfres.groupby(colname + '_bin')\n",
    "#         dfout = dfresg.min()\n",
    "#         dfout.columns = ['[']\n",
    "#         dfout[']'] = dfresg.max()\n",
    "#         print(dfout)\n",
    "#     elif vartype == 'C':\n",
    "#         dftmp = copy.copy(dfres)\n",
    "#         dftmp[colname] = dftmp[colname].astype('str') + ''\n",
    "#         print(dftmp.groupby(colname + '_bin').sum())\n",
    "#     if outtype == 1:\n",
    "#         return dfres.set_index(colname)\n",
    "#     elif outtype == 2:\n",
    "#         return pd.merge(dfname[[colname]], dfres, how='left', on=colname)[colname + '_bin']"
   ]
  },
  {
   "cell_type": "code",
   "execution_count": 14,
   "metadata": {},
   "outputs": [
    {
     "name": "stdout",
     "output_type": "stream",
     "text": [
      "是否违约       国籍     0     1\n",
      "0      其它欧洲国家     5    18\n",
      "1     其它非欧洲国家    29    50\n",
      "2        南斯拉夫    16     7\n",
      "3         土耳其   157   154\n",
      "4          希腊    22    22\n",
      "5          德国  1253  1241\n",
      "6         意大利    14     5\n",
      "7         西班牙     4     3\n"
     ]
    }
   ],
   "source": [
    "M_chiMerge(dfraw, '国籍', '是否违约',vartype='C')"
   ]
  },
  {
   "cell_type": "code",
   "execution_count": null,
   "metadata": {},
   "outputs": [],
   "source": []
  }
 ],
 "metadata": {
  "kernelspec": {
   "display_name": "Python 3",
   "language": "python",
   "name": "python3"
  },
  "language_info": {
   "codemirror_mode": {
    "name": "ipython",
    "version": 3
   },
   "file_extension": ".py",
   "mimetype": "text/x-python",
   "name": "python",
   "nbconvert_exporter": "python",
   "pygments_lexer": "ipython3",
   "version": "3.6.6"
  }
 },
 "nbformat": 4,
 "nbformat_minor": 2
}
